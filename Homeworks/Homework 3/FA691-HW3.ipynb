{
 "cells": [
  {
   "cell_type": "markdown",
   "id": "accessible-broadway",
   "metadata": {},
   "source": [
    "# FA691 Homework 3\n",
    "# Due: Wednesday, February 15 @ 11:59PM"
   ]
  },
  {
   "cell_type": "markdown",
   "id": "aware-spouse",
   "metadata": {},
   "source": [
    "Name: \n",
    "\n",
    "Date: "
   ]
  },
  {
   "cell_type": "code",
   "execution_count": 1,
   "id": "fundamental-defense",
   "metadata": {},
   "outputs": [],
   "source": [
    "import numpy as np\n",
    "import yfinance\n",
    "import matplotlib.pyplot as plt\n",
    "\n",
    "# Set seed of random number generator\n",
    "CWID = -1 #Place here your Campus wide ID number, this will personalize\n",
    "#your results, but still maintain the reproduceable nature of using seeds.\n",
    "#If you ever need to reset the seed in this assignment, use this as your seed\n",
    "#Papers that use -1 as this CWID variable will earn 0's so make sure you change\n",
    "#this value before you submit your work.\n",
    "personal = CWID % 10000\n",
    "np.random.seed(personal)"
   ]
  },
  {
   "cell_type": "markdown",
   "id": "handed-rebound",
   "metadata": {},
   "source": [
    "## Question 1 (10pt)"
   ]
  },
  {
   "cell_type": "markdown",
   "id": "pediatric-shoulder",
   "metadata": {},
   "source": [
    "### Question 1.1\n",
    "Use the `yfinance` package (or other method of your choice) to obtain the daily adjusted close prices for `SPY` and `IEF`.  You should have at least 5 years of data for both assets. Do **not** include any data after January 1, 2022.  You should inspect the dates for your data to make sure you are including everything appropriately.  Create a binary variable whether the `SPY` returns are above the `IEF` returns on a each day. Create a data frame (or array) of the daily log returns both both stocks along with the lagged returns (at least 2 lags) and your binary class variable.  Use the `print` command to display your data."
   ]
  },
  {
   "cell_type": "code",
   "execution_count": 2,
   "id": "7ae435c6",
   "metadata": {},
   "outputs": [],
   "source": [
    "# Enter your code here"
   ]
  },
  {
   "cell_type": "markdown",
   "id": "progressive-range",
   "metadata": {},
   "source": [
    "### Question 1.2\n",
    "Split your data into training and testing sets (80% training and 20% test). This split should be done so that the causal relationship is kept consistent (i.e., split data at a specific time).\n",
    "\n",
    "Run a logistic regression of the binary variable (of `SPY` returns greater than `IEF` returns) as a function of the lagged returns (at least 2 lags) for both stocks.\n",
    "This should be of the form (assuming 2 lags) of $p_{t} = [1 + \\exp(-[\\beta_0 + \\beta_{SPY,1} r_{SPY,t-1} + \\beta_{SPY,2} r_{SPY,t-2} + \\beta_{IEF,1} r_{IEF,t-1} + \\beta_{IEF,2} r_{IEF,t-2}])]^{-1}$.\n",
    "Evaluate the performance of this model by printing the confusion matrix and accuracy on the test data."
   ]
  },
  {
   "cell_type": "code",
   "execution_count": 3,
   "id": "invisible-understanding",
   "metadata": {},
   "outputs": [],
   "source": [
    "# Enter your code here"
   ]
  },
  {
   "cell_type": "markdown",
   "id": "individual-alarm",
   "metadata": {},
   "source": [
    "<font color='red'>Solution:</font>"
   ]
  },
  {
   "cell_type": "markdown",
   "id": "demographic-tiger",
   "metadata": {},
   "source": [
    "## Question 2 (30spt)"
   ]
  },
  {
   "cell_type": "markdown",
   "id": "major-lodging",
   "metadata": {},
   "source": [
    "### Question 2.1\n",
    "Using the same data, train/test split ratio, and consider the same classification problem as in Question 1.2.\n",
    "Create a feed-forward neural network with a single hidden layer (10 hidden nodes) densely connected to the inputs.\n",
    "You may choose any activation functions you wish."
   ]
  },
  {
   "cell_type": "code",
   "execution_count": 4,
   "id": "fifteen-heart",
   "metadata": {},
   "outputs": [],
   "source": [
    "# Enter your code here"
   ]
  },
  {
   "cell_type": "markdown",
   "id": "straight-breach",
   "metadata": {},
   "source": [
    "### Question 2.2\n",
    "Train this neural network on the training data.  \n",
    "Evaluate the performance of this model by printing the confusion matrix and accuracy on the test data."
   ]
  },
  {
   "cell_type": "code",
   "execution_count": 5,
   "id": "unlike-roads",
   "metadata": {},
   "outputs": [],
   "source": [
    "# Enter your code here"
   ]
  },
  {
   "cell_type": "markdown",
   "id": "organic-martin",
   "metadata": {},
   "source": [
    "<font color='red'>Solution:</font> "
   ]
  },
  {
   "cell_type": "markdown",
   "id": "standard-methodology",
   "metadata": {},
   "source": [
    "### Question 2.3\n",
    "Using the same train/test split and consider the same classification problem as in Question 1.2.\n",
    "Train and test another feed-forward neural network of your own design."
   ]
  },
  {
   "cell_type": "code",
   "execution_count": 6,
   "id": "collective-briefs",
   "metadata": {},
   "outputs": [],
   "source": [
    "# Enter your code here"
   ]
  },
  {
   "cell_type": "markdown",
   "id": "changed-suicide",
   "metadata": {},
   "source": [
    "<font color='red'>Solution:</font>"
   ]
  },
  {
   "cell_type": "markdown",
   "id": "4bdf4d0f",
   "metadata": {},
   "source": [
    "## Question 3 (30pt)"
   ]
  },
  {
   "cell_type": "markdown",
   "id": "ffe5ad71",
   "metadata": {},
   "source": [
    "### Question 3.1\n",
    "Using the same data, train/test split ratio, and consider the same classification problem as in Question 1.2.\n",
    "Create a time dilation neural network with a single convolutional layer (filter size of 10, kernel size of 2, dilation size of 1) densely connected to the inputs.\n",
    "You may choose any activation functions you wish.\n",
    "\n",
    "*Hint:* The CNN can reference earlier lags on its own without feeding explicit memory inputs as was needed for the Question 2."
   ]
  },
  {
   "cell_type": "code",
   "execution_count": 7,
   "id": "91b9beb0",
   "metadata": {},
   "outputs": [],
   "source": [
    "# Enter your code here"
   ]
  },
  {
   "cell_type": "markdown",
   "id": "77177341",
   "metadata": {},
   "source": [
    "### Question 3.2\n",
    "Train this neural network on the training data.\n",
    "Evaluate the performance of this model by printing the confusion matrix and accuracy on the test data."
   ]
  },
  {
   "cell_type": "code",
   "execution_count": 8,
   "id": "13e7422c",
   "metadata": {},
   "outputs": [],
   "source": [
    "# Enter your code here"
   ]
  },
  {
   "cell_type": "markdown",
   "id": "4be5e397",
   "metadata": {},
   "source": [
    "<font color='red'>Solution:</font> "
   ]
  },
  {
   "cell_type": "markdown",
   "id": "623518bb",
   "metadata": {},
   "source": [
    "### Question 3.3\n",
    "Using the same train/test split and consider the same classification problem as in Question 1.2. Train and test another convolutional neural network of your own design."
   ]
  },
  {
   "cell_type": "code",
   "execution_count": 9,
   "id": "965e78bc",
   "metadata": {},
   "outputs": [],
   "source": [
    "# Enter your code here"
   ]
  },
  {
   "cell_type": "markdown",
   "id": "e4216515",
   "metadata": {},
   "source": [
    "<font color='red'>Solution:</font> "
   ]
  },
  {
   "cell_type": "markdown",
   "id": "close-paradise",
   "metadata": {},
   "source": [
    "## Question 4 (30pt)"
   ]
  },
  {
   "cell_type": "markdown",
   "id": "spread-olympus",
   "metadata": {},
   "source": [
    "## Question 4.1\n",
    "Consider the same classification problem as in Question 1.2.\n",
    "Of the methods considered in this assignment, which would you recommend in practice?\n",
    "Explain briefly (1 paragraph) why you choose this fit. "
   ]
  },
  {
   "cell_type": "markdown",
   "id": "55c9571c",
   "metadata": {},
   "source": [
    "<font color='red'>Solution:</font> "
   ]
  },
  {
   "cell_type": "markdown",
   "id": "cf0bb2c9",
   "metadata": {},
   "source": [
    "## Question 4.2\n",
    "Recreate your data set using data from January 1, 2022 through December 31, 2022.\n",
    "Using the method your would implement in practice, invest in the asset (``SPY`` or ``IEF``) depending on your predictions.\n",
    "Print the returns your portfolio would obtain from following this strategy. Comment on how this portfolio compares with the ``SPY`` and ``IEF`` returns and risks."
   ]
  },
  {
   "cell_type": "code",
   "execution_count": 10,
   "id": "58c1f40a",
   "metadata": {},
   "outputs": [],
   "source": [
    "# Enter your code here"
   ]
  },
  {
   "cell_type": "markdown",
   "id": "470a0145",
   "metadata": {},
   "source": [
    "<font color='red'>Solution:</font> "
   ]
  }
 ],
 "metadata": {
  "kernelspec": {
   "display_name": "Python 3 (ipykernel)",
   "language": "python",
   "name": "python3"
  },
  "language_info": {
   "codemirror_mode": {
    "name": "ipython",
    "version": 3
   },
   "file_extension": ".py",
   "mimetype": "text/x-python",
   "name": "python",
   "nbconvert_exporter": "python",
   "pygments_lexer": "ipython3",
   "version": "3.9.7"
  }
 },
 "nbformat": 4,
 "nbformat_minor": 5
}
