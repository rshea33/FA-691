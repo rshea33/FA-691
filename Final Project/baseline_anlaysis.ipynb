{
 "cells": [
  {
   "cell_type": "code",
   "execution_count": 1,
   "metadata": {},
   "outputs": [
    {
     "name": "stderr",
     "output_type": "stream",
     "text": [
      "/Users/ryanshea/opt/miniconda3/envs/tensorflow/lib/python3.8/site-packages/xgboost/compat.py:36: FutureWarning: pandas.Int64Index is deprecated and will be removed from pandas in a future version. Use pandas.Index with the appropriate dtype instead.\n",
      "  from pandas import MultiIndex, Int64Index\n"
     ]
    }
   ],
   "source": [
    "import numpy as np\n",
    "import pandas as pd\n",
    "\n",
    "from sklearn.linear_model import LogisticRegression\n",
    "from sklearn.svm import SVC\n",
    "from sklearn.ensemble import RandomForestClassifier\n",
    "import xgboost as xgb\n",
    "from sklearn.tree import DecisionTreeClassifier\n",
    "import catboost\n",
    "import lightgbm\n",
    "from sklearn.model_selection import train_test_split\n",
    "from sklearn.metrics import accuracy_score, confusion_matrix, classification_report\n",
    "\n",
    "np.random.seed(0)"
   ]
  },
  {
   "attachments": {},
   "cell_type": "markdown",
   "metadata": {},
   "source": [
    "## Notes:\n",
    "\n",
    " - Generally, most ML models are able to find a difference between the two classes\n",
    "\n",
    " - Logistic Regression and Decision Tress have lower accuracies but even they do better than random guessing\n",
    "\n",
    " - None of the models have been tuned but most of the others have around .77 accuracy\n",
    "\n",
    " - Shows that there is a lot of room for improvement in data synthesis\n"
   ]
  },
  {
   "cell_type": "code",
   "execution_count": 2,
   "metadata": {},
   "outputs": [
    {
     "name": "stdout",
     "output_type": "stream",
     "text": [
      "          0         1         2         3         4  label\n",
      "0  0.018903 -0.028697  0.016171 -0.010939  0.024098      0\n",
      "1  0.004445  0.002597  0.011681  0.006875  0.002442      0\n",
      "2  0.004113 -0.000945  0.009640 -0.002228  0.002092      0\n",
      "3  0.003525 -0.005657 -0.001579 -0.000251  0.006937      0\n",
      "4 -0.003574 -0.003970 -0.007127 -0.002242  0.001875      0\n",
      "          0         1         2         3         4  label\n",
      "0 -0.015061  0.000583  0.005816  0.001912 -0.002144      1\n",
      "1 -0.067705 -0.020872  0.043075  0.007002 -0.000873      1\n",
      "2  0.018355  0.010048 -0.011197  0.003540 -0.009258      1\n",
      "3  0.000220 -0.011784  0.011652  0.013388  0.026251      1\n",
      "4  0.004243  0.002334 -0.017521  0.017447  0.006675      1\n"
     ]
    }
   ],
   "source": [
    "fake = pd.read_csv('fake_returns.csv').drop(\"Unnamed: 0\", axis=1).T\n",
    "real = pd.read_csv('real_returns.csv').drop(\"Unnamed: 0\", axis=1).T\n",
    "\n",
    "fake['label'] = 0\n",
    "real['label'] = 1\n",
    "print(fake.head())\n",
    "print(real.head())"
   ]
  },
  {
   "cell_type": "code",
   "execution_count": 3,
   "metadata": {},
   "outputs": [
    {
     "data": {
      "text/html": [
       "<div>\n",
       "<style scoped>\n",
       "    .dataframe tbody tr th:only-of-type {\n",
       "        vertical-align: middle;\n",
       "    }\n",
       "\n",
       "    .dataframe tbody tr th {\n",
       "        vertical-align: top;\n",
       "    }\n",
       "\n",
       "    .dataframe thead th {\n",
       "        text-align: right;\n",
       "    }\n",
       "</style>\n",
       "<table border=\"1\" class=\"dataframe\">\n",
       "  <thead>\n",
       "    <tr style=\"text-align: right;\">\n",
       "      <th></th>\n",
       "      <th>0</th>\n",
       "      <th>1</th>\n",
       "      <th>2</th>\n",
       "      <th>3</th>\n",
       "      <th>4</th>\n",
       "      <th>label</th>\n",
       "    </tr>\n",
       "  </thead>\n",
       "  <tbody>\n",
       "    <tr>\n",
       "      <th>0</th>\n",
       "      <td>-0.005124</td>\n",
       "      <td>-0.022862</td>\n",
       "      <td>-0.015359</td>\n",
       "      <td>-0.053346</td>\n",
       "      <td>0.008409</td>\n",
       "      <td>1</td>\n",
       "    </tr>\n",
       "    <tr>\n",
       "      <th>1</th>\n",
       "      <td>-0.006478</td>\n",
       "      <td>-0.015799</td>\n",
       "      <td>0.022404</td>\n",
       "      <td>0.014828</td>\n",
       "      <td>0.035294</td>\n",
       "      <td>1</td>\n",
       "    </tr>\n",
       "    <tr>\n",
       "      <th>2</th>\n",
       "      <td>-0.010542</td>\n",
       "      <td>-0.014620</td>\n",
       "      <td>-0.007076</td>\n",
       "      <td>-0.004644</td>\n",
       "      <td>-0.005648</td>\n",
       "      <td>0</td>\n",
       "    </tr>\n",
       "    <tr>\n",
       "      <th>3</th>\n",
       "      <td>-0.000238</td>\n",
       "      <td>0.000353</td>\n",
       "      <td>0.013898</td>\n",
       "      <td>0.004238</td>\n",
       "      <td>-0.002228</td>\n",
       "      <td>0</td>\n",
       "    </tr>\n",
       "    <tr>\n",
       "      <th>4</th>\n",
       "      <td>-0.018514</td>\n",
       "      <td>0.004395</td>\n",
       "      <td>0.011364</td>\n",
       "      <td>0.003803</td>\n",
       "      <td>0.000000</td>\n",
       "      <td>1</td>\n",
       "    </tr>\n",
       "    <tr>\n",
       "      <th>...</th>\n",
       "      <td>...</td>\n",
       "      <td>...</td>\n",
       "      <td>...</td>\n",
       "      <td>...</td>\n",
       "      <td>...</td>\n",
       "      <td>...</td>\n",
       "    </tr>\n",
       "    <tr>\n",
       "      <th>99631</th>\n",
       "      <td>-0.002732</td>\n",
       "      <td>-0.001971</td>\n",
       "      <td>-0.000224</td>\n",
       "      <td>-0.004348</td>\n",
       "      <td>-0.000190</td>\n",
       "      <td>0</td>\n",
       "    </tr>\n",
       "    <tr>\n",
       "      <th>99632</th>\n",
       "      <td>-0.007494</td>\n",
       "      <td>-0.009779</td>\n",
       "      <td>0.006263</td>\n",
       "      <td>0.001235</td>\n",
       "      <td>0.014107</td>\n",
       "      <td>0</td>\n",
       "    </tr>\n",
       "    <tr>\n",
       "      <th>99633</th>\n",
       "      <td>-0.014397</td>\n",
       "      <td>-0.000361</td>\n",
       "      <td>0.008395</td>\n",
       "      <td>-0.002989</td>\n",
       "      <td>-0.010194</td>\n",
       "      <td>0</td>\n",
       "    </tr>\n",
       "    <tr>\n",
       "      <th>99634</th>\n",
       "      <td>-0.003073</td>\n",
       "      <td>-0.005414</td>\n",
       "      <td>-0.000081</td>\n",
       "      <td>-0.005265</td>\n",
       "      <td>-0.004561</td>\n",
       "      <td>0</td>\n",
       "    </tr>\n",
       "    <tr>\n",
       "      <th>99635</th>\n",
       "      <td>0.026337</td>\n",
       "      <td>0.001496</td>\n",
       "      <td>0.005961</td>\n",
       "      <td>-0.003383</td>\n",
       "      <td>0.022250</td>\n",
       "      <td>1</td>\n",
       "    </tr>\n",
       "  </tbody>\n",
       "</table>\n",
       "<p>99636 rows × 6 columns</p>\n",
       "</div>"
      ],
      "text/plain": [
       "              0         1         2         3         4  label\n",
       "0     -0.005124 -0.022862 -0.015359 -0.053346  0.008409      1\n",
       "1     -0.006478 -0.015799  0.022404  0.014828  0.035294      1\n",
       "2     -0.010542 -0.014620 -0.007076 -0.004644 -0.005648      0\n",
       "3     -0.000238  0.000353  0.013898  0.004238 -0.002228      0\n",
       "4     -0.018514  0.004395  0.011364  0.003803  0.000000      1\n",
       "...         ...       ...       ...       ...       ...    ...\n",
       "99631 -0.002732 -0.001971 -0.000224 -0.004348 -0.000190      0\n",
       "99632 -0.007494 -0.009779  0.006263  0.001235  0.014107      0\n",
       "99633 -0.014397 -0.000361  0.008395 -0.002989 -0.010194      0\n",
       "99634 -0.003073 -0.005414 -0.000081 -0.005265 -0.004561      0\n",
       "99635  0.026337  0.001496  0.005961 -0.003383  0.022250      1\n",
       "\n",
       "[99636 rows x 6 columns]"
      ]
     },
     "execution_count": 3,
     "metadata": {},
     "output_type": "execute_result"
    }
   ],
   "source": [
    "# combine, shuffle, and split\n",
    "np.random.seed(0)\n",
    "df = pd.concat([fake, real])\n",
    "df = df.sample(frac=1).reset_index(drop=True)\n",
    "df"
   ]
  },
  {
   "cell_type": "code",
   "execution_count": 4,
   "metadata": {},
   "outputs": [
    {
     "name": "stdout",
     "output_type": "stream",
     "text": [
      "0.4981733509976314\n"
     ]
    }
   ],
   "source": [
    "print(df['label'].sum() / len(df)) # roughly 50/50 split"
   ]
  },
  {
   "cell_type": "code",
   "execution_count": 5,
   "metadata": {},
   "outputs": [],
   "source": [
    "X_train, X_test, y_train, y_test = train_test_split(df.drop('label', axis=1), df['label'], test_size=0.1, random_state=0)\n"
   ]
  },
  {
   "cell_type": "code",
   "execution_count": 6,
   "metadata": {},
   "outputs": [],
   "source": [
    "def eval_model(model):\n",
    "    model.fit(X_train, y_train)\n",
    "    y_pred = model.predict(X_test)\n",
    "    print(f\"Accuracy: {accuracy_score(y_test, y_pred)}\\n\\n\")\n",
    "    print(f\"Confusion Matrix:\\n{confusion_matrix(y_test, y_pred)}\\n\\n\")\n",
    "    print(f\"Classification Report:\\n\\n{classification_report(y_test, y_pred)}\")\n",
    "    return model"
   ]
  },
  {
   "cell_type": "code",
   "execution_count": 7,
   "metadata": {},
   "outputs": [
    {
     "name": "stdout",
     "output_type": "stream",
     "text": [
      "Accuracy: 0.5630268968285829\n",
      "\n",
      "\n",
      "Confusion Matrix:\n",
      "[[3218 1820]\n",
      " [2534 2392]]\n",
      "\n",
      "\n",
      "Classification Report:\n",
      "\n",
      "              precision    recall  f1-score   support\n",
      "\n",
      "           0       0.56      0.64      0.60      5038\n",
      "           1       0.57      0.49      0.52      4926\n",
      "\n",
      "    accuracy                           0.56      9964\n",
      "   macro avg       0.56      0.56      0.56      9964\n",
      "weighted avg       0.56      0.56      0.56      9964\n",
      "\n"
     ]
    }
   ],
   "source": [
    "logistic = eval_model(LogisticRegression())"
   ]
  },
  {
   "cell_type": "code",
   "execution_count": 8,
   "metadata": {},
   "outputs": [
    {
     "name": "stdout",
     "output_type": "stream",
     "text": [
      "Accuracy: 0.7760939381774388\n",
      "\n",
      "\n",
      "Confusion Matrix:\n",
      "[[3894 1144]\n",
      " [1087 3839]]\n",
      "\n",
      "\n",
      "Classification Report:\n",
      "\n",
      "              precision    recall  f1-score   support\n",
      "\n",
      "           0       0.78      0.77      0.78      5038\n",
      "           1       0.77      0.78      0.77      4926\n",
      "\n",
      "    accuracy                           0.78      9964\n",
      "   macro avg       0.78      0.78      0.78      9964\n",
      "weighted avg       0.78      0.78      0.78      9964\n",
      "\n"
     ]
    }
   ],
   "source": [
    "svm = eval_model(SVC())"
   ]
  },
  {
   "cell_type": "code",
   "execution_count": 9,
   "metadata": {},
   "outputs": [
    {
     "name": "stdout",
     "output_type": "stream",
     "text": [
      "Accuracy: 0.7786029706945002\n",
      "\n",
      "\n",
      "Confusion Matrix:\n",
      "[[3695 1343]\n",
      " [ 863 4063]]\n",
      "\n",
      "\n",
      "Classification Report:\n",
      "\n",
      "              precision    recall  f1-score   support\n",
      "\n",
      "           0       0.81      0.73      0.77      5038\n",
      "           1       0.75      0.82      0.79      4926\n",
      "\n",
      "    accuracy                           0.78      9964\n",
      "   macro avg       0.78      0.78      0.78      9964\n",
      "weighted avg       0.78      0.78      0.78      9964\n",
      "\n"
     ]
    }
   ],
   "source": [
    "rf = eval_model(RandomForestClassifier())"
   ]
  },
  {
   "cell_type": "code",
   "execution_count": 10,
   "metadata": {},
   "outputs": [
    {
     "name": "stderr",
     "output_type": "stream",
     "text": [
      "/Users/ryanshea/opt/miniconda3/envs/tensorflow/lib/python3.8/site-packages/xgboost/sklearn.py:1224: UserWarning: The use of label encoder in XGBClassifier is deprecated and will be removed in a future release. To remove this warning, do the following: 1) Pass option use_label_encoder=False when constructing XGBClassifier object; and 2) Encode your labels (y) as integers starting with 0, i.e. 0, 1, 2, ..., [num_class - 1].\n",
      "  warnings.warn(label_encoder_deprecation_msg, UserWarning)\n",
      "/Users/ryanshea/opt/miniconda3/envs/tensorflow/lib/python3.8/site-packages/xgboost/data.py:250: FutureWarning: pandas.Int64Index is deprecated and will be removed from pandas in a future version. Use pandas.Index with the appropriate dtype instead.\n",
      "  elif isinstance(data.columns, (pd.Int64Index, pd.RangeIndex)):\n"
     ]
    },
    {
     "name": "stdout",
     "output_type": "stream",
     "text": [
      "[00:31:45] WARNING: ../src/learner.cc:1115: Starting in XGBoost 1.3.0, the default evaluation metric used with the objective 'binary:logistic' was changed from 'error' to 'logloss'. Explicitly set eval_metric if you'd like to restore the old behavior.\n",
      "Accuracy: 0.7768968285828984\n",
      "\n",
      "\n",
      "Confusion Matrix:\n",
      "[[3784 1254]\n",
      " [ 969 3957]]\n",
      "\n",
      "\n",
      "Classification Report:\n",
      "\n",
      "              precision    recall  f1-score   support\n",
      "\n",
      "           0       0.80      0.75      0.77      5038\n",
      "           1       0.76      0.80      0.78      4926\n",
      "\n",
      "    accuracy                           0.78      9964\n",
      "   macro avg       0.78      0.78      0.78      9964\n",
      "weighted avg       0.78      0.78      0.78      9964\n",
      "\n"
     ]
    }
   ],
   "source": [
    "xgb = eval_model(xgb.XGBClassifier())"
   ]
  },
  {
   "cell_type": "code",
   "execution_count": 11,
   "metadata": {},
   "outputs": [
    {
     "name": "stdout",
     "output_type": "stream",
     "text": [
      "Accuracy: 0.6964070654355681\n",
      "\n",
      "\n",
      "Confusion Matrix:\n",
      "[[3457 1581]\n",
      " [1444 3482]]\n",
      "\n",
      "\n",
      "Classification Report:\n",
      "\n",
      "              precision    recall  f1-score   support\n",
      "\n",
      "           0       0.71      0.69      0.70      5038\n",
      "           1       0.69      0.71      0.70      4926\n",
      "\n",
      "    accuracy                           0.70      9964\n",
      "   macro avg       0.70      0.70      0.70      9964\n",
      "weighted avg       0.70      0.70      0.70      9964\n",
      "\n"
     ]
    }
   ],
   "source": [
    "tree = eval_model(DecisionTreeClassifier())"
   ]
  },
  {
   "cell_type": "code",
   "execution_count": 12,
   "metadata": {},
   "outputs": [
    {
     "name": "stdout",
     "output_type": "stream",
     "text": [
      "Accuracy: 0.7785026093938178\n",
      "\n",
      "\n",
      "Confusion Matrix:\n",
      "[[3761 1277]\n",
      " [ 930 3996]]\n",
      "\n",
      "\n",
      "Classification Report:\n",
      "\n",
      "              precision    recall  f1-score   support\n",
      "\n",
      "           0       0.80      0.75      0.77      5038\n",
      "           1       0.76      0.81      0.78      4926\n",
      "\n",
      "    accuracy                           0.78      9964\n",
      "   macro avg       0.78      0.78      0.78      9964\n",
      "weighted avg       0.78      0.78      0.78      9964\n",
      "\n"
     ]
    }
   ],
   "source": [
    "cat = eval_model(catboost.CatBoostClassifier(verbose=False))"
   ]
  },
  {
   "cell_type": "code",
   "execution_count": 13,
   "metadata": {},
   "outputs": [
    {
     "name": "stdout",
     "output_type": "stream",
     "text": [
      "Accuracy: 0.779205138498595\n",
      "\n",
      "\n",
      "Confusion Matrix:\n",
      "[[3724 1314]\n",
      " [ 886 4040]]\n",
      "\n",
      "\n",
      "Classification Report:\n",
      "\n",
      "              precision    recall  f1-score   support\n",
      "\n",
      "           0       0.81      0.74      0.77      5038\n",
      "           1       0.75      0.82      0.79      4926\n",
      "\n",
      "    accuracy                           0.78      9964\n",
      "   macro avg       0.78      0.78      0.78      9964\n",
      "weighted avg       0.78      0.78      0.78      9964\n",
      "\n"
     ]
    }
   ],
   "source": [
    "light = eval_model(lightgbm.LGBMClassifier())"
   ]
  }
 ],
 "metadata": {
  "kernelspec": {
   "display_name": "Python 3.8.13 (tensorflow)",
   "language": "python",
   "name": "tensorflow"
  },
  "language_info": {
   "codemirror_mode": {
    "name": "ipython",
    "version": 3
   },
   "file_extension": ".py",
   "mimetype": "text/x-python",
   "name": "python",
   "nbconvert_exporter": "python",
   "pygments_lexer": "ipython3",
   "version": "3.8.13"
  },
  "orig_nbformat": 4,
  "vscode": {
   "interpreter": {
    "hash": "a136720a1ac125f1208ac5a12f06dc6fdefa6de2c745c86bc6997bc7f5716f82"
   }
  }
 },
 "nbformat": 4,
 "nbformat_minor": 2
}
