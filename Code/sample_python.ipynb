{
 "cells": [
  {
   "cell_type": "code",
   "execution_count": 1,
   "id": "hairy-partner",
   "metadata": {},
   "outputs": [],
   "source": [
    "# Basics of Python\n",
    "import numpy as np\n",
    "import matplotlib.pyplot as plt\n",
    "\n",
    "# Set seed of random number generator\n",
    "CWID = -1 # Place here your Campus wide ID number, this will personalize\n",
    "#your results, but still maintain the reproducibl nature of using seeds.\n",
    "personal = CWID % 10000\n",
    "np.random.seed(personal)"
   ]
  },
  {
   "cell_type": "code",
   "execution_count": 2,
   "id": "combined-ceiling",
   "metadata": {},
   "outputs": [
    {
     "data": {
      "image/png": "[encoded data removed]",
      "text/plain": [
       "<Figure size 432x288 with 1 Axes>"
      ]
     },
     "metadata": {
      "needs_background": "light"
     },
     "output_type": "display_data"
    },
    {
     "data": {
      "image/png": "[encoded data removed]",
      "text/plain": [
       "<Figure size 432x288 with 1 Axes>"
      ]
     },
     "metadata": {
      "needs_background": "light"
     },
     "output_type": "display_data"
    },
    {
     "data": {
      "image/png": "[encoded data removed]",
      "text/plain": [
       "<Figure size 432x288 with 1 Axes>"
      ]
     },
     "metadata": {
      "needs_background": "light"
     },
     "output_type": "display_data"
    },
    {
     "name": "stdout",
     "output_type": "stream",
     "text": [
      "20.03134898504953\n",
      "5.016979374675258\n",
      "25.170082045916942\n"
     ]
    }
   ],
   "source": [
    "# Generate uniform random numbers between -1 and 1\n",
    "x = np.random.uniform(low=-1,high=1,size=1000)\n",
    "plt.hist(x)\n",
    "plt.show()\n",
    "\n",
    "# Generate standard normal random numbers\n",
    "x = np.random.normal(loc=0,scale=1,size=1000)\n",
    "# Draw a histogram with 50 bins\n",
    "plt.hist(x,bins=50)\n",
    "plt.show()\n",
    "\n",
    "# Change the mean/variance\n",
    "x = np.random.normal(loc=20,scale=5,size=10000) # loc = mean; scale = standard deviations\n",
    "plt.hist(x,bins=50)\n",
    "plt.show()\n",
    "\n",
    "# Compute the sample mean and standard deviations\n",
    "print(np.mean(x))\n",
    "print(np.std(x))\n",
    "print(np.var(x))\n",
    "# Do these values make sense?"
   ]
  },
  {
   "cell_type": "code",
   "execution_count": 3,
   "id": "published-milton",
   "metadata": {},
   "outputs": [
    {
     "name": "stdout",
     "output_type": "stream",
     "text": [
      "20.03990779882957\n",
      "0.23483437745566654\n"
     ]
    }
   ],
   "source": [
    "# Vectors + Loops + sampling\n",
    "# Take out 25 random samples of 500 observations each (with replacement)\n",
    "mu = np.zeros(25)\n",
    "for i in range(0,25): #Note that Python likes to index starting at 0\n",
    "    mu[i] = np.mean(np.random.choice(x,size=500,replace=True)) #Sample 500 observations from x (with replacement)\n",
    "#Calculate the mean of the sample means and the standard deviation of the sample means\n",
    "print(np.mean(mu))\n",
    "print(np.std(mu))\n",
    "\n",
    "# Compare with central limit theorem\n",
    "# Mean = 20\n",
    "# Standard deviation = sigma/sqrt(n) = 5/sqrt(500) = 0.2236"
   ]
  },
  {
   "cell_type": "code",
   "execution_count": 4,
   "id": "diagnostic-lucas",
   "metadata": {},
   "outputs": [
    {
     "name": "stdout",
     "output_type": "stream",
     "text": [
      "range(1, 51)\n",
      "[ 1  2  3  4  5  6  7  8  9 10 11 12 13 14 15 16 17 18 19 20 21 22 23 24\n",
      " 25 26 27 28 29 30 31 32 33 34 35 36 37 38 39 40 41 42 43 44 45 46 47 48\n",
      " 49 50]\n",
      "[ 1.  2.  3.  4.  5.  6.  7.  8.  9. 10. 11. 12. 13. 14. 15. 16. 17. 18.\n",
      " 19. 20. 21. 22. 23. 24. 25. 26. 27. 28. 29. 30. 31. 32. 33. 34. 35. 36.\n",
      " 37. 38. 39. 40. 41. 42. 43. 44. 45. 46. 47. 48. 49. 50.]\n",
      "[ 1.  2.  3.  4.  5.  6.  7.  8.  9. 10. 11. 12. 13. 14. 15. 16. 17. 18.\n",
      " 19. 20. 21. 22. 23. 24. 25. 26. 27. 28. 29. 30. 31. 32. 33. 34. 35. 36.\n",
      " 37. 38. 39. 40. 41. 42. 43. 44. 45. 46. 47. 48. 49. 50.]\n",
      "Length <= 50\n"
     ]
    }
   ],
   "source": [
    "# Create a vector of values from 1 to 50\n",
    "# Directly:\n",
    "x = range(1,51)\n",
    "print(x)\n",
    "\n",
    "x = np.arange(1,51)\n",
    "print(x)\n",
    "\n",
    "# Loops:\n",
    "# For loops:\n",
    "x = np.zeros(50)\n",
    "for i in range(0,50):\n",
    "    x[i] = i+1 #Remember Python indexes starting at 0\n",
    "print(x)\n",
    "\n",
    "# While loops:\n",
    "x = np.zeros(50)\n",
    "i = 0\n",
    "while i < 50:\n",
    "    x[i] = i+1\n",
    "    i = i+1\n",
    "print(x)\n",
    "\n",
    "\n",
    "# If statements:\n",
    "if len(x) > 100:\n",
    "    print('Length > 100')\n",
    "elif len(x) > 50:\n",
    "    print('Length > 50')\n",
    "else:\n",
    "    print('Length <= 50')"
   ]
  },
  {
   "cell_type": "code",
   "execution_count": 5,
   "id": "intelligent-general",
   "metadata": {},
   "outputs": [
    {
     "name": "stdout",
     "output_type": "stream",
     "text": [
      "                  y         x5            x6          x7           x8\n",
      "0     359685.430622  10.198039  78366.332862  260.142740  2852.492494\n",
      "1     300760.584784  10.392305  65462.748866  231.006572  2706.306583\n",
      "2     283085.369011  10.099505  61782.076058  469.514843  2293.194433\n",
      "3     232826.292560  10.295630  50743.565881  481.803570  2396.048325\n",
      "4     312396.779923   9.949874  67930.956127   10.460349  2647.687317\n",
      "...             ...        ...           ...         ...          ...\n",
      "4995  294148.729025   9.848858  64084.277600  218.375368  2357.844081\n",
      "4996  255002.695735  10.583005  55458.569253   93.623365  2296.358551\n",
      "4997  342123.079949   9.433981  74436.694226    8.519681  2706.392971\n",
      "4998  300364.892170  10.295630  65362.943934  120.933338  2548.554138\n",
      "4999  331949.419257   9.746794  72342.317624  382.468550  2828.684232\n",
      "\n",
      "[5000 rows x 5 columns]\n",
      "y     287330.036846\n",
      "x5         9.988701\n",
      "x6     62557.629539\n",
      "x7       221.877993\n",
      "x8      2507.561831\n",
      "dtype: float64\n",
      "y     36017.433160\n",
      "x5        0.494462\n",
      "x6     7857.351154\n",
      "x7      219.693130\n",
      "x8      315.452438\n",
      "dtype: float64\n"
     ]
    }
   ],
   "source": [
    "# Download data sets: \"fakedataeasy.csv\"\n",
    "import pandas as pd\n",
    "\n",
    "df = pd.read_csv(\"fakedataeasy.csv\")\n",
    "print(df)\n",
    "# Find the mean and standard deviation of the variables\n",
    "print(df.mean())\n",
    "print(df.std())"
   ]
  },
  {
   "cell_type": "code",
   "execution_count": 9,
   "id": "caroline-stocks",
   "metadata": {},
   "outputs": [
    {
     "name": "stdout",
     "output_type": "stream",
     "text": [
      "[*********************100%***********************]  2 of 2 completed\n",
      "             Adj Close                   Close                    High  \\\n",
      "                   IBM        MSFT         IBM        MSFT         IBM   \n",
      "Date                                                                     \n",
      "2018-01-02  116.036736   80.940369  147.466537   85.949997  148.001907   \n",
      "2018-01-03  119.226341   81.317078  151.520081   86.349998  152.782028   \n",
      "2018-01-04  121.641098   82.032791  154.588913   87.110001  155.181641   \n",
      "2018-01-05  122.235367   83.049843  155.344162   88.190002  155.736145   \n",
      "2018-01-08  122.972610   83.134575  156.281067   88.279999  156.701721   \n",
      "...                ...         ...         ...         ...         ...   \n",
      "2021-12-23  124.457581  331.583038  130.630005  334.690002  130.960007   \n",
      "2021-12-27  125.400795  339.270996  131.619995  342.450012  131.649994   \n",
      "2021-12-28  126.363075  338.082123  132.630005  341.250000  133.220001   \n",
      "2021-12-29  127.049065  338.775604  133.350006  341.950012  134.210007   \n",
      "2021-12-30  127.582596  336.170044  133.910004  339.320007  134.369995   \n",
      "\n",
      "                               Low                    Open              \\\n",
      "                  MSFT         IBM        MSFT         IBM        MSFT   \n",
      "Date                                                                     \n",
      "2018-01-02   86.309998  146.787766   85.500000  147.705551   86.129997   \n",
      "2018-01-03   86.510002  149.455063   85.970001  150.420654   86.059998   \n",
      "2018-01-04   87.660004  152.361374   86.570000  152.629059   86.589996   \n",
      "2018-01-05   88.410004  154.015289   87.430000  155.296371   87.660004   \n",
      "2018-01-08   88.580002  154.588913   87.599998  155.506699   88.199997   \n",
      "...                ...         ...         ...         ...         ...   \n",
      "2021-12-23  336.390015  129.520004  332.730011  130.000000  332.750000   \n",
      "2021-12-27  342.480011  129.949997  335.429993  130.630005  335.459991   \n",
      "2021-12-28  343.809998  131.589996  340.320007  131.600006  343.149994   \n",
      "2021-12-29  344.299988  132.300003  339.679993  132.399994  341.299988   \n",
      "2021-12-30  343.130005  133.330002  338.820007  133.750000  341.910004   \n",
      "\n",
      "             Volume            \n",
      "                IBM      MSFT  \n",
      "Date                           \n",
      "2018-01-02  4395815  22483800  \n",
      "2018-01-03  9875914  26061400  \n",
      "2018-01-04  7903785  21912000  \n",
      "2018-01-05  5434807  23407100  \n",
      "2018-01-08  5478425  22113000  \n",
      "...             ...       ...  \n",
      "2021-12-23  3649000  19617800  \n",
      "2021-12-27  4293900  19947000  \n",
      "2021-12-28  3445200  15661500  \n",
      "2021-12-29  4239900  15042000  \n",
      "2021-12-30  3158100  15994500  \n",
      "\n",
      "[1007 rows x 12 columns]\n",
      "                 IBM      MSFT\n",
      "Date                          \n",
      "2018-01-02       NaN       NaN\n",
      "2018-01-03  0.027117  0.004643\n",
      "2018-01-04  0.020051  0.008763\n",
      "2018-01-05  0.004874  0.012322\n",
      "2018-01-08  0.006013  0.001020\n",
      "...              ...       ...\n",
      "2021-12-23  0.006759  0.004462\n",
      "2021-12-27  0.007550  0.022921\n",
      "2021-12-28  0.007644 -0.003510\n",
      "2021-12-29  0.005414  0.002049\n",
      "2021-12-30  0.004191 -0.007721\n",
      "\n",
      "[1007 rows x 2 columns]\n",
      "IBM     0.000094\n",
      "MSFT    0.001415\n",
      "dtype: float64\n",
      "IBM     0.018021\n",
      "MSFT    0.018816\n",
      "dtype: float64\n"
     ]
    }
   ],
   "source": [
    "# Download financial data:\n",
    "from pandas_datareader.data import DataReader\n",
    "import yfinance\n",
    "from datetime import datetime\n",
    "\n",
    "myData = yfinance.download([\"IBM\",\"MSFT\"],datetime(2018,1,1),datetime(2021,12,31)) #IBM and Microsoft chosen at random\n",
    "#myData = DataReader([\"IBM\",\"MSFT\"],\"yahoo\",datetime(2018,1,1),datetime(2021,12,31)) \n",
    "print(myData)\n",
    "\n",
    "IBM = myData[\"Adj Close\"][\"IBM\"]\n",
    "MSFT = myData[\"Adj Close\"][\"MSFT\"]\n",
    "rIBM = np.log(IBM) - np.log(IBM.shift(1)) # Daily log return\n",
    "rMSFT = np.log(MSFT) - np.log(MSFT.shift(1))\n",
    "\n",
    "# Create a data frame\n",
    "df = pd.DataFrame({'IBM': rIBM,'MSFT': rMSFT})\n",
    "print(df)\n",
    "\n",
    "# Find the mean and standard deviation of daily returns\n",
    "print(df.mean())\n",
    "print(df.std())"
   ]
  },
  {
   "cell_type": "code",
   "execution_count": null,
   "id": "18560232",
   "metadata": {},
   "outputs": [],
   "source": []
  }
 ],
 "metadata": {
  "kernelspec": {
   "display_name": "Python 3 (ipykernel)",
   "language": "python",
   "name": "python3"
  },
  "language_info": {
   "codemirror_mode": {
    "name": "ipython",
    "version": 3
   },
   "file_extension": ".py",
   "mimetype": "text/x-python",
   "name": "python",
   "nbconvert_exporter": "python",
   "pygments_lexer": "ipython3",
   "version": "3.9.7"
  }
 },
 "nbformat": 4,
 "nbformat_minor": 5
}
